{
 "cells": [
  {
   "cell_type": "code",
   "execution_count": 210,
   "metadata": {},
   "outputs": [],
   "source": [
    "import numpy as np\n",
    "import matplotlib.pyplot as plt"
   ]
  },
  {
   "cell_type": "code",
   "execution_count": 211,
   "metadata": {},
   "outputs": [],
   "source": [
    "def convolve(sheet, kernel, stride = 1, padding = 2):\n",
    "    kernel_size = kernel.shape[0]\n",
    "    output_image = np.zeros((int((sheet.shape[0] - kernel_size + 2*padding)/stride) + 1, int((sheet.shape[1] - kernel_size + 2*padding)/stride) + 1))\n",
    "    sheet = np.pad(sheet, padding, 'constant')\n",
    "    for i in range(output_image.shape[0]):\n",
    "        for j in range(output_image.shape[1]):\n",
    "            output_image[i, j] = np.sum(sheet[i*stride:i*stride+kernel_size, j*stride:j*stride+kernel_size] * kernel)\n",
    "            # print(output_image[i, j])\n",
    "    return output_image"
   ]
  },
  {
   "cell_type": "code",
   "execution_count": 212,
   "metadata": {},
   "outputs": [
    {
     "name": "stdout",
     "output_type": "stream",
     "text": [
      "[[1. 1. 1. 1. 1.]\n",
      " [1. 1. 1. 1. 1.]\n",
      " [1. 1. 1. 1. 1.]\n",
      " [1. 1. 1. 1. 1.]\n",
      " [1. 1. 1. 1. 1.]]\n",
      "[[1. 1. 1.]\n",
      " [1. 1. 1.]\n",
      " [1. 1. 1.]]\n",
      "(2, 2)\n",
      "[[9. 9.]\n",
      " [9. 9.]]\n"
     ]
    }
   ],
   "source": [
    "kernel = np.ones((3, 3))\n",
    "op = convolve(np.ones((5, 5)), kernel, stride = 2, padding = 0)\n",
    "print(np.ones((5, 5)))\n",
    "print(kernel)\n",
    "print(op.shape)\n",
    "print(op)"
   ]
  },
  {
   "cell_type": "code",
   "execution_count": 213,
   "metadata": {},
   "outputs": [],
   "source": [
    "def convolve_image(image, kernel, stride, padding):\n",
    "    channels = image.shape[2]\n",
    "    if(kernel.shape[2] != channels):\n",
    "        print(\"Error: Kernel and Image not conformable\")\n",
    "        return\n",
    "    else:\n",
    "        output_size = int((image.shape[0] - kernel.shape[0] + 2*padding)/stride) + 1\n",
    "        output_image = np.zeros((output_size, output_size))\n",
    "        channel_sum = np.zeros_like(output_image)\n",
    "        for i in range(channels):\n",
    "            channel_sum += convolve(image[:, :, i], kernel[:, :, i], stride, padding)\n",
    "        output_image = channel_sum\n",
    "        return output_image"
   ]
  },
  {
   "cell_type": "code",
   "execution_count": 214,
   "metadata": {},
   "outputs": [
    {
     "data": {
      "text/plain": [
       "array([[27., 27., 27.],\n",
       "       [27., 27., 27.],\n",
       "       [27., 27., 27.]])"
      ]
     },
     "execution_count": 214,
     "metadata": {},
     "output_type": "execute_result"
    }
   ],
   "source": [
    "convolve_image(np.ones((5, 5, 3)), np.ones((3, 3, 3)), 1, 0)"
   ]
  },
  {
   "cell_type": "code",
   "execution_count": 215,
   "metadata": {},
   "outputs": [],
   "source": [
    "def conv2d(input_volume, out_channels, kernel_size, stride = 1, padding = 0):\n",
    "    in_shape= input_volume.shape[0]\n",
    "    in_channels = input_volume.shape[2]\n",
    "    kernels = np.ones((out_channels, kernel_size, kernel_size, in_channels))\n",
    "    output_size = int((in_shape - kernel_size + 2*padding)/stride) + 1\n",
    "    output_volume = np.zeros((output_size, output_size, out_channels))\n",
    "    print(output_volume.shape)\n",
    "    for i in range(out_channels):\n",
    "        output_volume[:,:,i] = convolve_image(input_volume, kernels[i], stride, padding)\n",
    "    return output_volume"
   ]
  },
  {
   "cell_type": "code",
   "execution_count": 216,
   "metadata": {},
   "outputs": [
    {
     "name": "stdout",
     "output_type": "stream",
     "text": [
      "(3, 3, 7)\n"
     ]
    },
    {
     "data": {
      "text/plain": [
       "array([[[27., 27., 27., 27., 27., 27., 27.],\n",
       "        [27., 27., 27., 27., 27., 27., 27.],\n",
       "        [27., 27., 27., 27., 27., 27., 27.]],\n",
       "\n",
       "       [[27., 27., 27., 27., 27., 27., 27.],\n",
       "        [27., 27., 27., 27., 27., 27., 27.],\n",
       "        [27., 27., 27., 27., 27., 27., 27.]],\n",
       "\n",
       "       [[27., 27., 27., 27., 27., 27., 27.],\n",
       "        [27., 27., 27., 27., 27., 27., 27.],\n",
       "        [27., 27., 27., 27., 27., 27., 27.]]])"
      ]
     },
     "execution_count": 216,
     "metadata": {},
     "output_type": "execute_result"
    }
   ],
   "source": [
    "conv2d(np.ones((5, 5, 3)), 7, 3, 1, 0)"
   ]
  },
  {
   "cell_type": "code",
   "execution_count": 217,
   "metadata": {},
   "outputs": [],
   "source": [
    "def pool_image(input_volume, kernel_size, stride, padding, mode = \"avg\"):\n",
    "    channels = input_volume.shape[2]\n",
    "    output_size = int((input_volume.shape[0] - kernel_size + 2*padding)/stride) + 1\n",
    "    output_volume = np.zeros((output_size, output_size, channels))\n",
    "    for i in range(channels):\n",
    "        if(mode == \"avg\"):\n",
    "            output_volume[:, :, i] = convolve(input_volume[:, :, i], np.ones((kernel_size, kernel_size)), stride, padding)/kernel_size**2\n",
    "        elif(mode == \"max\"):\n",
    "            for j in range(output_size):\n",
    "                for k in range(output_size):\n",
    "                    output_volume[j, k, i] = np.max(input_volume[j*stride:j*stride+kernel_size, k*stride:k*stride+kernel_size, i])\n",
    "    return output_volume"
   ]
  },
  {
   "cell_type": "code",
   "execution_count": 218,
   "metadata": {},
   "outputs": [
    {
     "data": {
      "text/plain": [
       "array([[[-0.14715925,  0.16488345,  0.39500685, -0.13417148,\n",
       "         -0.77588273],\n",
       "        [ 0.63145276, -2.69188579,  0.14151972, -1.32342799,\n",
       "          1.23965853],\n",
       "        [ 1.0385029 , -0.44787742,  0.19798162,  0.12987171,\n",
       "          0.74462425],\n",
       "        [-0.83144586, -0.66190902, -0.28706348,  1.79288497,\n",
       "         -1.13320175],\n",
       "        [ 0.71621205,  1.14986703,  0.0679152 ,  2.02485132,\n",
       "          0.07835828]],\n",
       "\n",
       "       [[ 1.44606737, -0.33183818, -0.0410086 , -1.07074213,\n",
       "          1.33963081],\n",
       "        [ 0.15203912,  0.33572795, -0.90454091, -1.10790634,\n",
       "         -0.66144087],\n",
       "        [-1.53223705,  0.36237228,  0.16530729,  0.74297814,\n",
       "         -0.60681426],\n",
       "        [ 1.96452149,  1.2372718 ,  0.7471    ,  0.28996784,\n",
       "          0.06943595],\n",
       "        [-0.23813912,  0.95289716,  0.73390451,  1.52819756,\n",
       "          0.02593017]],\n",
       "\n",
       "       [[ 0.10378245, -1.4018487 ,  1.3421518 ,  0.47365956,\n",
       "          1.52033442],\n",
       "        [-0.14308553, -0.18800931, -1.35376598, -2.09005835,\n",
       "         -0.60885761],\n",
       "        [-0.54592709,  0.09233805,  0.1657625 ,  1.2780429 ,\n",
       "          0.33250147],\n",
       "        [-0.046539  ,  0.109499  ,  1.4563728 , -0.77152188,\n",
       "          0.77609606],\n",
       "        [-0.62417261, -0.96121765, -0.20641502, -1.73307619,\n",
       "         -0.20470246]]])"
      ]
     },
     "metadata": {},
     "output_type": "display_data"
    },
    {
     "data": {
      "text/plain": [
       "array([[[1.79288497, 0.33572795, 2.02485132],\n",
       "        [1.79288497, 1.96452149, 2.02485132],\n",
       "        [1.23965853, 1.96452149, 2.02485132]],\n",
       "\n",
       "       [[1.79288497, 1.3421518 , 2.02485132],\n",
       "        [1.79288497, 1.96452149, 2.02485132],\n",
       "        [1.52033442, 1.96452149, 2.02485132]],\n",
       "\n",
       "       [[1.52819756, 1.4563728 , 0.74297814],\n",
       "        [1.52819756, 1.96452149, 1.2372718 ],\n",
       "        [1.52033442, 1.96452149, 1.2372718 ]]])"
      ]
     },
     "execution_count": 218,
     "metadata": {},
     "output_type": "execute_result"
    }
   ],
   "source": [
    "x = np.random.randn(5, 5, 3)\n",
    "display(x.reshape(3, 5,5))\n",
    "pool_image(x, 3, 1, 0, \"max\").reshape(3, 3, 3)"
   ]
  },
  {
   "cell_type": "code",
   "execution_count": null,
   "metadata": {},
   "outputs": [],
   "source": []
  }
 ],
 "metadata": {
  "kernelspec": {
   "display_name": "adaenv",
   "language": "python",
   "name": "python3"
  },
  "language_info": {
   "codemirror_mode": {
    "name": "ipython",
    "version": 3
   },
   "file_extension": ".py",
   "mimetype": "text/x-python",
   "name": "python",
   "nbconvert_exporter": "python",
   "pygments_lexer": "ipython3",
   "version": "3.9.13"
  },
  "orig_nbformat": 4,
  "vscode": {
   "interpreter": {
    "hash": "3b4875b0c0e5921500ba89c3f7c140a0122aaa6b3aec3bf88d6de6cfd93ac7ec"
   }
  }
 },
 "nbformat": 4,
 "nbformat_minor": 2
}
