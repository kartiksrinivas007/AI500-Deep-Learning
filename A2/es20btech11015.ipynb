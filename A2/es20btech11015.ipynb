{
 "cells": [
  {
   "cell_type": "code",
   "execution_count": 299,
   "metadata": {},
   "outputs": [],
   "source": [
    "import numpy as np\n",
    "import matplotlib.pyplot as plt\n",
    "import torch # for CIFAR\n",
    "import torchvision\n",
    "import torchvision.transforms as transforms\n",
    "from sklearn.decomposition import PCA\n",
    "np.random.seed(0)"
   ]
  },
  {
   "cell_type": "code",
   "execution_count": 300,
   "metadata": {},
   "outputs": [
    {
     "name": "stdout",
     "output_type": "stream",
     "text": [
      "Files already downloaded and verified\n"
     ]
    }
   ],
   "source": [
    "transform = transforms.Compose(\n",
    "    [transforms.ToTensor(),\n",
    "     transforms.Normalize((0.5, 0.5, 0.5), (0.5, 0.5, 0.5))])\n",
    "\n",
    "\n",
    "# trainset = torchvision.datasets.CIFAR10(root='./Datasets', train=True,\n",
    "#                                         download=True, transform=transform)\n",
    "# trainloader = torch.utils.data.DataLoader(trainset, batch_size=batch_size,\n",
    "#                                           shuffle=True, num_workers=2)\n",
    "\n",
    "testset = torchvision.datasets.CIFAR10(root='./Datasets', train=False,\n",
    "                                       download=True, transform=transform)\n",
    "testloader = torch.utils.data.DataLoader(testset, batch_size=len(testset),\n",
    "                                         shuffle=False, num_workers=2)\n",
    "iterator = iter(testloader)\n",
    "images, labels = next(iterator)"
   ]
  },
  {
   "cell_type": "code",
   "execution_count": 301,
   "metadata": {},
   "outputs": [
    {
     "name": "stdout",
     "output_type": "stream",
     "text": [
      "torch.Size([10000, 3, 32, 32])\n"
     ]
    }
   ],
   "source": [
    "print(images.shape)\n",
    "image = images[0].permute(1,2,0)"
   ]
  },
  {
   "cell_type": "code",
   "execution_count": 302,
   "metadata": {},
   "outputs": [
    {
     "name": "stdout",
     "output_type": "stream",
     "text": [
      "[ 3 10 21]\n",
      "[ 6  9 37]\n",
      "[25 35 65]\n",
      "[ 0  8 46]\n",
      "[22 26 32]\n",
      "[12 16 24]\n",
      "[4 5 7]\n",
      "[13 17 20]\n",
      "[ 1  2 15]\n",
      "[11 14 23]\n"
     ]
    }
   ],
   "source": [
    "batch = []\n",
    "for label in range(10):\n",
    "    pos = np.where(labels == label)\n",
    "    top_3 = pos[0][:3]\n",
    "    print(top_3)\n",
    "    image_set = [images[i] for i in top_3]\n",
    "    image_set = [image.permute(1,2,0) for image in image_set]\n",
    "    batch += image_set"
   ]
  },
  {
   "cell_type": "code",
   "execution_count": 303,
   "metadata": {},
   "outputs": [
    {
     "name": "stdout",
     "output_type": "stream",
     "text": [
      "30\n"
     ]
    }
   ],
   "source": [
    "print(len(batch))"
   ]
  },
  {
   "cell_type": "code",
   "execution_count": 304,
   "metadata": {},
   "outputs": [
    {
     "name": "stdout",
     "output_type": "stream",
     "text": [
      "tensor(3)\n"
     ]
    }
   ],
   "source": [
    "print(labels[0])"
   ]
  },
  {
   "cell_type": "code",
   "execution_count": 305,
   "metadata": {},
   "outputs": [
    {
     "name": "stderr",
     "output_type": "stream",
     "text": [
      "Clipping input data to the valid range for imshow with RGB data ([0..1] for floats or [0..255] for integers).\n"
     ]
    },
    {
     "data": {
      "text/plain": [
       "Text(0.5, 1.0, 'Normalized image')"
      ]
     },
     "execution_count": 305,
     "metadata": {},
     "output_type": "execute_result"
    },
    {
     "data": {
      "image/png": "[encoded data removed]",
      "text/plain": [
       "<Figure size 432x288 with 1 Axes>"
      ]
     },
     "metadata": {
      "needs_background": "light"
     },
     "output_type": "display_data"
    }
   ],
   "source": [
    "plt.imshow(image)\n",
    "plt.title('Normalized image')"
   ]
  },
  {
   "cell_type": "code",
   "execution_count": 306,
   "metadata": {},
   "outputs": [],
   "source": [
    "def sigmoid(input_space): # should work for both sheets and vectors\n",
    "    return 1/(1 + np.exp(-input_space))"
   ]
  },
  {
   "cell_type": "code",
   "execution_count": 307,
   "metadata": {},
   "outputs": [],
   "source": [
    "def convolve(sheet, kernel, stride = 1, padding = 2, activation = sigmoid):\n",
    "    kernel_size = kernel.shape[0]\n",
    "    output_image = np.zeros((int((sheet.shape[0] - kernel_size + 2*padding)/stride) + 1, int((sheet.shape[1] - kernel_size + 2*padding)/stride) + 1))\n",
    "    sheet = np.pad(sheet, padding, 'constant')\n",
    "    for i in range(output_image.shape[0]):\n",
    "        for j in range(output_image.shape[1]):\n",
    "            output_image[i, j] = np.sum(sheet[i*stride:i*stride+kernel_size, j*stride:j*stride+kernel_size] * kernel)\n",
    "            # print(output_image[i, j])\n",
    "    return activation(output_image)"
   ]
  },
  {
   "cell_type": "code",
   "execution_count": 308,
   "metadata": {},
   "outputs": [
    {
     "name": "stdout",
     "output_type": "stream",
     "text": [
      "[[1. 1. 1. 1. 1.]\n",
      " [1. 1. 1. 1. 1.]\n",
      " [1. 1. 1. 1. 1.]\n",
      " [1. 1. 1. 1. 1.]\n",
      " [1. 1. 1. 1. 1.]]\n",
      "[[1. 1. 1.]\n",
      " [1. 1. 1.]\n",
      " [1. 1. 1.]]\n",
      "(2, 2)\n",
      "[[0.99987661 0.99987661]\n",
      " [0.99987661 0.99987661]]\n"
     ]
    }
   ],
   "source": [
    "kernel = np.ones((3, 3))\n",
    "op = convolve(np.ones((5, 5)), kernel, stride = 2, padding = 0)\n",
    "print(np.ones((5, 5)))\n",
    "print(kernel)\n",
    "print(op.shape)\n",
    "print(op)"
   ]
  },
  {
   "cell_type": "code",
   "execution_count": 309,
   "metadata": {},
   "outputs": [],
   "source": [
    "def convolve_image(image, kernel, stride, padding, activation = sigmoid):\n",
    "    channels = image.shape[2]\n",
    "    if(kernel.shape[2] != channels):\n",
    "        print(\"Error: Kernel and Image not conformable\")\n",
    "        return\n",
    "    else:\n",
    "        output_size = int((image.shape[0] - kernel.shape[0] + 2*padding)/stride) + 1\n",
    "        output_image = np.zeros((output_size, output_size))\n",
    "        channel_sum = np.zeros_like(output_image)\n",
    "        for i in range(channels):\n",
    "            channel_sum += convolve(image[:, :, i], kernel[:, :, i], stride, padding, activation)\n",
    "        output_image = channel_sum\n",
    "        return output_image"
   ]
  },
  {
   "cell_type": "code",
   "execution_count": 310,
   "metadata": {},
   "outputs": [],
   "source": [
    "def pool_image(image, kernel_size, stride=1, padding=0, option = \"max\"):\n",
    "    if(option == \"max\"):\n",
    "        output_size = int((image.shape[0] - kernel_size + 2*padding)/stride) + 1\n",
    "        output_image = np.zeros((output_size, output_size))\n",
    "        for i in range(output_image.shape[0]):\n",
    "            for j in range(output_image.shape[1]):\n",
    "                output_image[i, j] = np.max(image[i*stride:i*stride+kernel_size, j*stride:j*stride+kernel_size])\n",
    "        return output_image\n",
    "    elif(option == \"avg\"):\n",
    "        output_size = int((image.shape[0] - kernel_size + 2*padding)/stride) + 1\n",
    "        output_image = np.zeros((output_size, output_size))\n",
    "        for i in range(output_image.shape[0]):\n",
    "            for j in range(output_image.shape[1]):\n",
    "                output_image[i, j] = np.mean(image[i*stride:i*stride+kernel_size, j*stride:j*stride+kernel_size])\n",
    "        return output_image\n",
    "        \n",
    "    "
   ]
  },
  {
   "cell_type": "code",
   "execution_count": 311,
   "metadata": {},
   "outputs": [],
   "source": [
    "def GAP(input_volume, padding = 0):\n",
    "    output_volume = np.zeros((1, 1, input_volume.shape[2]))\n",
    "    for i in range(input_volume.shape[2]):\n",
    "        output_volume[0, 0, i] = np.mean(input_volume[:, :, i])\n",
    "    return output_volume"
   ]
  },
  {
   "cell_type": "code",
   "execution_count": 312,
   "metadata": {},
   "outputs": [
    {
     "data": {
      "text/plain": [
       "array([[2.99962982, 2.99962982, 2.99962982],\n",
       "       [2.99962982, 2.99962982, 2.99962982],\n",
       "       [2.99962982, 2.99962982, 2.99962982]])"
      ]
     },
     "execution_count": 312,
     "metadata": {},
     "output_type": "execute_result"
    }
   ],
   "source": [
    "convolve_image(np.ones((5, 5, 3)), np.ones((3, 3, 3)), 1, 0)"
   ]
  },
  {
   "cell_type": "code",
   "execution_count": 313,
   "metadata": {},
   "outputs": [],
   "source": [
    "def conv2d(input_volume, out_channels, kernel_size, stride = 1, padding = 0, activation = sigmoid):\n",
    "    in_shape= input_volume.shape[0]\n",
    "    in_channels = input_volume.shape[2]\n",
    "    kernels = np.random.randn(out_channels, kernel_size, kernel_size, in_channels)\n",
    "    output_size = int((in_shape - kernel_size + 2*padding)/stride) + 1\n",
    "    output_volume = np.zeros((output_size, output_size, out_channels))\n",
    "    # print(output_volume.shape)\n",
    "    for i in range(out_channels):\n",
    "        output_volume[:,:,i] = convolve_image(input_volume, kernels[i], stride, padding, activation)\n",
    "    return (output_volume)"
   ]
  },
  {
   "cell_type": "code",
   "execution_count": 314,
   "metadata": {},
   "outputs": [
    {
     "data": {
      "text/plain": [
       "array([[[2.07919027, 0.90913285, 0.27690932, 2.15675731, 2.76083355,\n",
       "         1.37175937, 0.5580917 ],\n",
       "        [2.07919027, 0.90913285, 0.27690932, 2.15675731, 2.76083355,\n",
       "         1.37175937, 0.5580917 ],\n",
       "        [2.07919027, 0.90913285, 0.27690932, 2.15675731, 2.76083355,\n",
       "         1.37175937, 0.5580917 ]],\n",
       "\n",
       "       [[2.07919027, 0.90913285, 0.27690932, 2.15675731, 2.76083355,\n",
       "         1.37175937, 0.5580917 ],\n",
       "        [2.07919027, 0.90913285, 0.27690932, 2.15675731, 2.76083355,\n",
       "         1.37175937, 0.5580917 ],\n",
       "        [2.07919027, 0.90913285, 0.27690932, 2.15675731, 2.76083355,\n",
       "         1.37175937, 0.5580917 ]],\n",
       "\n",
       "       [[2.07919027, 0.90913285, 0.27690932, 2.15675731, 2.76083355,\n",
       "         1.37175937, 0.5580917 ],\n",
       "        [2.07919027, 0.90913285, 0.27690932, 2.15675731, 2.76083355,\n",
       "         1.37175937, 0.5580917 ],\n",
       "        [2.07919027, 0.90913285, 0.27690932, 2.15675731, 2.76083355,\n",
       "         1.37175937, 0.5580917 ]]])"
      ]
     },
     "execution_count": 314,
     "metadata": {},
     "output_type": "execute_result"
    }
   ],
   "source": [
    "conv2d(np.ones((5, 5, 3)), 7, 3, 1, 0)"
   ]
  },
  {
   "cell_type": "code",
   "execution_count": 315,
   "metadata": {},
   "outputs": [],
   "source": [
    "def pool2d(input_volume, kernel_size, stride, padding, mode = \"avg\"):\n",
    "    input_channels = input_volume.shape[2]\n",
    "    if(mode == \"avg\"):\n",
    "        output_size = int((input_volume.shape[0] - kernel_size + 2*padding)/stride) + 1\n",
    "        output_volume = np.zeros((output_size, output_size, input_channels))\n",
    "        for i in range(input_channels):\n",
    "            output_volume[:, :, i] = pool_image(input_volume[:, :, i], kernel_size, stride, padding, \"avg\")\n",
    "    elif(mode == \"max\"):\n",
    "        output_size = int((input_volume.shape[0] - kernel_size + 2*padding)/stride) + 1\n",
    "        output_volume = np.zeros((output_size, output_size, input_channels))\n",
    "        for i in range(input_channels):\n",
    "            output_volume[:, :, i] = pool_image(input_volume[:, :, i], kernel_size, stride, padding, \"max\")\n",
    "    else:\n",
    "        output_volume = GAP(input_volume, padding) \n",
    "    return output_volume"
   ]
  },
  {
   "cell_type": "code",
   "execution_count": 316,
   "metadata": {},
   "outputs": [],
   "source": [
    "def softmax(x):\n",
    "    x = x - np.max(x, axis = 0, keepdims=True) # for numerical statbility of the softmax function\n",
    "    return np.exp(x)/np.sum(np.exp(x), axis = 0)"
   ]
  },
  {
   "cell_type": "code",
   "execution_count": 317,
   "metadata": {},
   "outputs": [],
   "source": [
    "def tanh(input_vector):\n",
    "    return np.tanh(input_vector)"
   ]
  },
  {
   "cell_type": "code",
   "execution_count": 318,
   "metadata": {},
   "outputs": [
    {
     "data": {
      "text/plain": [
       "array([[[-0.14707542, -0.03463301, -0.04837921]]])"
      ]
     },
     "execution_count": 318,
     "metadata": {},
     "output_type": "execute_result"
    }
   ],
   "source": [
    "x = np.random.randn(5, 5, 3)\n",
    "pool2d(x, 3, 1, 0, \"GAP\")"
   ]
  },
  {
   "cell_type": "code",
   "execution_count": 319,
   "metadata": {},
   "outputs": [],
   "source": [
    "def flatten(input_volume):\n",
    "    return input_volume.reshape((input_volume.shape[0]*input_volume.shape[1]*input_volume.shape[2], 1))"
   ]
  },
  {
   "cell_type": "code",
   "execution_count": 320,
   "metadata": {},
   "outputs": [],
   "source": [
    "def MLP(input_vector, sizes, activation=sigmoid):\n",
    "    sizes = [input_vector.shape[0]] + sizes\n",
    "    output = input_vector\n",
    "    # print(len(sizes))\n",
    "    weights = [np.random.randn(sizes[i+1], sizes[i]) for i in range(len(sizes) - 1)]\n",
    "    biases = [np.random.randn(sizes[i+1], 1) for i in range(len(sizes) - 1)]\n",
    "    for i in range(len(sizes) - 1):\n",
    "        output = activation(np.dot(weights[i],output) + biases[i])\n",
    "    return output"
   ]
  },
  {
   "cell_type": "code",
   "execution_count": 321,
   "metadata": {},
   "outputs": [
    {
     "data": {
      "text/plain": [
       "array([[0.76645481],\n",
       "       [0.7917724 ]])"
      ]
     },
     "execution_count": 321,
     "metadata": {},
     "output_type": "execute_result"
    }
   ],
   "source": [
    "input_vector = np.random.randn(5, 1)\n",
    "sizes = [5, 6, 7, 2]\n",
    "MLP(input_vector, sizes)"
   ]
  },
  {
   "cell_type": "code",
   "execution_count": 322,
   "metadata": {},
   "outputs": [],
   "source": [
    "class ConvolutionalNet:\n",
    "    def __init__(self):\n",
    "        self.input = None\n",
    "        self.output = None\n",
    "        self.bottle_neck = None\n",
    "    def forward(self, x_in):\n",
    "        self.input = x_in\n",
    "        x = x_in\n",
    "        x = conv2d(x, 16, 3, 1, 0, sigmoid)\n",
    "        x = pool2d(x, 2, 2, 0, \"max\")\n",
    "        x = conv2d(x, 8, 3, 1, 0, sigmoid)\n",
    "        x = pool2d(x, 2, 2, 0, \"max\")\n",
    "        x = GAP(x, 0)\n",
    "        x = flatten(x)\n",
    "        self.bottle_neck = x\n",
    "        x = MLP(x, [x.shape[0], 10], sigmoid)\n",
    "        x = softmax(x)\n",
    "        self.output = x\n",
    "        return x\n",
    "    def get_bottle_neck(self):\n",
    "        return self.bottle_neck"
   ]
  },
  {
   "cell_type": "code",
   "execution_count": 323,
   "metadata": {},
   "outputs": [],
   "source": [
    "net = ConvolutionalNet()"
   ]
  },
  {
   "cell_type": "code",
   "execution_count": 324,
   "metadata": {},
   "outputs": [
    {
     "name": "stdout",
     "output_type": "stream",
     "text": [
      "(10, 1)\n"
     ]
    }
   ],
   "source": [
    "x = net.forward(image)\n",
    "print(x.shape)"
   ]
  },
  {
   "cell_type": "code",
   "execution_count": 325,
   "metadata": {},
   "outputs": [],
   "source": [
    "bottlenecks = np.zeros((len(batch), net.get_bottle_neck().shape[0]))\n",
    "outputs =  []\n",
    "pred_labels = []\n",
    "i = 0\n",
    "for image in batch:\n",
    "    op = net.forward(image)\n",
    "    bn = net.get_bottle_neck()\n",
    "    pred_label = np.argmax(op, axis = 0)\n",
    "    pred_labels.append(pred_label)\n",
    "    bottlenecks[i, :] = bn.reshape((bn.shape[0],))\n",
    "    outputs.append(op)\n",
    "    i = i + 1"
   ]
  },
  {
   "cell_type": "code",
   "execution_count": 326,
   "metadata": {},
   "outputs": [
    {
     "name": "stdout",
     "output_type": "stream",
     "text": [
      "(30, 8)\n"
     ]
    }
   ],
   "source": [
    "print(bottlenecks.shape)"
   ]
  },
  {
   "cell_type": "code",
   "execution_count": 327,
   "metadata": {},
   "outputs": [],
   "source": [
    "pca = PCA(n_components=2)\n",
    "Embeddings = pca.fit_transform(bottlenecks)"
   ]
  },
  {
   "cell_type": "code",
   "execution_count": 328,
   "metadata": {},
   "outputs": [
    {
     "name": "stdout",
     "output_type": "stream",
     "text": [
      "(30, 2)\n"
     ]
    }
   ],
   "source": [
    "print(Embeddings.shape)"
   ]
  },
  {
   "cell_type": "code",
   "execution_count": 329,
   "metadata": {},
   "outputs": [
    {
     "data": {
      "text/plain": [
       "<matplotlib.collections.PathCollection at 0x7f26ec497280>"
      ]
     },
     "execution_count": 329,
     "metadata": {},
     "output_type": "execute_result"
    },
    {
     "data": {
      "image/png": "[encoded data removed]",
      "text/plain": [
       "<Figure size 432x288 with 1 Axes>"
      ]
     },
     "metadata": {
      "needs_background": "light"
     },
     "output_type": "display_data"
    }
   ],
   "source": [
    "plt.scatter(Embeddings[:, 0], Embeddings[:, 1], c = pred_labels)"
   ]
  }
 ],
 "metadata": {
  "kernelspec": {
   "display_name": "adaenv",
   "language": "python",
   "name": "python3"
  },
  "language_info": {
   "codemirror_mode": {
    "name": "ipython",
    "version": 3
   },
   "file_extension": ".py",
   "mimetype": "text/x-python",
   "name": "python",
   "nbconvert_exporter": "python",
   "pygments_lexer": "ipython3",
   "version": "3.9.13"
  },
  "orig_nbformat": 4,
  "vscode": {
   "interpreter": {
    "hash": "3b4875b0c0e5921500ba89c3f7c140a0122aaa6b3aec3bf88d6de6cfd93ac7ec"
   }
  }
 },
 "nbformat": 4,
 "nbformat_minor": 2
}
