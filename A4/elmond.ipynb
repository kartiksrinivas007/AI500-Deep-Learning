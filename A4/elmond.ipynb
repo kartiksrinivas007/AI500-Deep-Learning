{
 "cells": [
  {
   "cell_type": "code",
   "execution_count": 1,
   "metadata": {},
   "outputs": [
    {
     "name": "stderr",
     "output_type": "stream",
     "text": [
      "/home/arkartik/anaconda3/envs/adaenv/lib/python3.9/site-packages/scipy/__init__.py:138: UserWarning: A NumPy version >=1.16.5 and <1.23.0 is required for this version of SciPy (detected version 1.24.2)\n",
      "  warnings.warn(f\"A NumPy version >={np_minversion} and <{np_maxversion} is required for this version of \"\n"
     ]
    }
   ],
   "source": [
    "import numpy as np\n",
    "import matplotlib.pyplot as plt\n",
    "import torch\n",
    "np.random.seed(0)\n",
    "import math\n",
    "from tqdm import tqdm\n",
    "from sklearn.model_selection import train_test_split"
   ]
  },
  {
   "attachments": {},
   "cell_type": "markdown",
   "metadata": {},
   "source": [
    "## Generate Data \n",
    "\n",
    "---\n",
    "Data Generation is done from a uniform distribution $U[0,1]$ and the values of the second variable in the sample is thresholded at 0.5. The maximum value of such ones is restricted to 2."
   ]
  },
  {
   "cell_type": "code",
   "execution_count": 2,
   "metadata": {},
   "outputs": [],
   "source": [
    "def generate_data(length):\n",
    "    num_samples = length\n",
    "    count_ones = 0\n",
    "    X = np.zeros((num_samples, 2))\n",
    "    y = np.zeros(num_samples,)\n",
    "    for i in range(num_samples):\n",
    "        X[i,0] = np.random.uniform(0,1) # sample first distribution from random normal distribution\n",
    "        X[i,1] = (np.random.uniform(0,1))\n",
    "        if(X[i,1] > 0.5 and count_ones < 2):\n",
    "            X[i,1] = 1.0\n",
    "            count_ones += 1\n",
    "            y[i] = y[i-1] + X[i,0]\n",
    "        else:\n",
    "            X[i,1] = 0.0\n",
    "            y[i] = y[i-1] \n",
    "    return X.astype(np.double),y.astype(np.double)"
   ]
  },
  {
   "cell_type": "code",
   "execution_count": 3,
   "metadata": {},
   "outputs": [],
   "source": [
    "# generate dataset type sequence\n",
    "X_data = []\n",
    "y_data = []\n",
    "for i in range(5000):\n",
    "    length = np.random.randint(4, 10)\n",
    "    X, y = generate_data(length)\n",
    "    X_data.append(torch.from_numpy(X).double())\n",
    "    y_data.append(y)"
   ]
  },
  {
   "cell_type": "code",
   "execution_count": 4,
   "metadata": {},
   "outputs": [],
   "source": [
    "# do a train test split of the data\n",
    "X_train, X_test, y_train, y_test = train_test_split(X_data, y_data, test_size=0.3, random_state=42)"
   ]
  },
  {
   "attachments": {},
   "cell_type": "markdown",
   "metadata": {},
   "source": [
    "### RNN\n",
    "---\n",
    "This is the Elmon Model\n",
    "It has max time steps and Min times steps inpout sequences, that prevent it from returning a forward pass if the sequence lenght is too high or low."
   ]
  },
  {
   "cell_type": "code",
   "execution_count": 6,
   "metadata": {},
   "outputs": [],
   "source": [
    "class RNN(torch.nn.Module):\n",
    "    def __init__(self, input_size, hidden_size, output_size):\n",
    "        super(RNN, self).__init__()\n",
    "        self.hidden_size = hidden_size\n",
    "        self.i2h = torch.nn.Linear(input_size, hidden_size, bias=True)\n",
    "        self.h2h = torch.nn.Linear(hidden_size, hidden_size, bias=True)\n",
    "        self.h2o = torch.nn.Linear(hidden_size, output_size, bias=True)\n",
    "        self.hidden_state = torch.zeros(self.hidden_size, dtype=torch.float64)\n",
    "        self.MAX_TIME_STEPS = 15\n",
    "        self.MIN_TIME_STEPS = 3\n",
    "        self.outputs = []\n",
    "    def forward(self, input):\n",
    "        #input shape = (num_ts,2)\n",
    "        if(input.shape[0] > self.MAX_TIME_STEPS or input.shape[0] < self.MIN_TIME_STEPS):\n",
    "            print(\"Input sequence length is sus\")\n",
    "            return None\n",
    "        self.hidden_state = self.initHidden()\n",
    "        self.outputs = []\n",
    "        for i in range(input.shape[0]):\n",
    "            self.hidden_state = torch.sigmoid(self.i2h(input[i,:]) + self.h2h(self.hidden_state))\n",
    "            self.outputs.append(self.h2o(self.hidden_state))\n",
    "            final_op = self.h2o(self.hidden_state)\n",
    "        return final_op\n",
    "    def initHidden(self):\n",
    "        return torch.zeros(self.hidden_size, dtype = torch.float64)"
   ]
  },
  {
   "cell_type": "code",
   "execution_count": 7,
   "metadata": {},
   "outputs": [
    {
     "name": "stdout",
     "output_type": "stream",
     "text": [
      "RNN(\n",
      "  (i2h): Linear(in_features=2, out_features=10, bias=True)\n",
      "  (h2h): Linear(in_features=10, out_features=10, bias=True)\n",
      "  (h2o): Linear(in_features=10, out_features=1, bias=True)\n",
      ")\n"
     ]
    }
   ],
   "source": [
    "net = RNN(2, 10, 1)\n",
    "net = net.double()\n",
    "print(net)"
   ]
  },
  {
   "cell_type": "code",
   "execution_count": 8,
   "metadata": {},
   "outputs": [
    {
     "name": "stdout",
     "output_type": "stream",
     "text": [
      "<bound method Module.parameters of RNN(\n",
      "  (i2h): Linear(in_features=2, out_features=10, bias=True)\n",
      "  (h2h): Linear(in_features=10, out_features=10, bias=True)\n",
      "  (h2o): Linear(in_features=10, out_features=1, bias=True)\n",
      ")>\n"
     ]
    }
   ],
   "source": [
    "print(net.parameters)"
   ]
  },
  {
   "attachments": {},
   "cell_type": "markdown",
   "metadata": {},
   "source": [
    "### Accuracy Function\n",
    "---\n",
    "\n",
    "The Accuracy of the Model an be estimated from the Mean squared error. The MSE on all is averaged and predicted.\n",
    "The function `one_accuracy` predicts the accuracy of a model the always gives the bayes optimal of the constant predictor, i.e $c = 1$"
   ]
  },
  {
   "cell_type": "code",
   "execution_count": 12,
   "metadata": {},
   "outputs": [],
   "source": [
    "def accuracy(model, X_test, y_test):\n",
    "    model.eval()\n",
    "    correct = 0\n",
    "    total = 0\n",
    "    loss = 0\n",
    "    for i in range(len(X_test)):\n",
    "        X = X_test[i]\n",
    "        y = y_test[i]\n",
    "        y_pred = model(X)\n",
    "        loss += torch.nn.functional.mse_loss(y_pred, torch.tensor([y[-1]], dtype=torch.float64) )\n",
    "    return loss.item()/len(X_test)"
   ]
  },
  {
   "cell_type": "code",
   "execution_count": 13,
   "metadata": {},
   "outputs": [],
   "source": [
    "def one_accruacy(X_test, y_test):\n",
    "    correct = 0\n",
    "    total = 0\n",
    "    loss = 0\n",
    "    for i in range(len(X_test)):\n",
    "        X = X_test[i]\n",
    "        y = y_test[i]\n",
    "        y_pred = torch.tensor([1.0], dtype = torch.float64)\n",
    "        loss += torch.nn.functional.mse_loss(y_pred, torch.tensor([y[-1]], dtype=torch.float64) )\n",
    "    return loss.item()/len(X_test)"
   ]
  },
  {
   "cell_type": "code",
   "execution_count": 14,
   "metadata": {},
   "outputs": [
    {
     "name": "stderr",
     "output_type": "stream",
     "text": [
      "100%|██████████| 35000/35000 [07:08<00:00, 81.72it/s] "
     ]
    },
    {
     "name": "stdout",
     "output_type": "stream",
     "text": [
      "final loss =  0.0030832421155682836\n"
     ]
    },
    {
     "name": "stderr",
     "output_type": "stream",
     "text": [
      "\n"
     ]
    }
   ],
   "source": [
    "optimizer = torch.optim.Adam(net.parameters(), lr=0.005)\n",
    "cum_losses = []\n",
    "acc_losses = []\n",
    "one_loss = one_accruacy(X_test, y_test)\n",
    "one_losses = []\n",
    "cum_loss = 0\n",
    "for epoch in tqdm(range(10*len(X_train))):\n",
    "    net.train()\n",
    "    optimizer.zero_grad()\n",
    "    index = epoch%len(X_train)\n",
    "    output = net(X_train[index])\n",
    "    wanted_op = torch.tensor([y_train[index][-1]], dtype=torch.float64)\n",
    "    loss = torch.nn.functional.mse_loss(output, wanted_op)\n",
    "    loss.backward()\n",
    "    cum_loss += loss.item()\n",
    "    optimizer.step()\n",
    "    if(epoch%100 == 0):\n",
    "        cum_losses.append(cum_loss/100)\n",
    "        cum_loss = 0\n",
    "        acc_losses.append(accuracy(net, X_test, y_test))\n",
    "        one_losses.append(one_loss)\n",
    "print(\"final loss = \", cum_losses[-1])"
   ]
  },
  {
   "cell_type": "code",
   "execution_count": 19,
   "metadata": {},
   "outputs": [
    {
     "data": {
      "text/plain": [
       "<matplotlib.legend.Legend at 0x7f8f98b64280>"
      ]
     },
     "execution_count": 19,
     "metadata": {},
     "output_type": "execute_result"
    },
    {
     "data": {
      "image/png": "[encoded data removed]",
      "text/plain": [
       "<Figure size 432x288 with 1 Axes>"
      ]
     },
     "metadata": {
      "needs_background": "light"
     },
     "output_type": "display_data"
    }
   ],
   "source": [
    "plt.plot(cum_losses, label='loss', color='red', marker='o')\n",
    "plt.plot(acc_losses, label='acc_loss', color='blue', marker='o')\n",
    "plt.plot(one_losses, label='one_loss', color='green', marker='o')\n",
    "plt.title('Loss vs per-100 iterations')\n",
    "plt.legend()"
   ]
  },
  {
   "attachments": {},
   "cell_type": "markdown",
   "metadata": {},
   "source": [
    "### Sample Data predictions and Final Loss comparison\n",
    "---\n"
   ]
  },
  {
   "cell_type": "code",
   "execution_count": 16,
   "metadata": {},
   "outputs": [
    {
     "name": "stdout",
     "output_type": "stream",
     "text": [
      "[[0.75665005 0.        ]\n",
      " [0.5667766  1.        ]\n",
      " [0.26016095 0.        ]\n",
      " [0.22264    1.        ]]\n",
      "[0.        0.5667766 0.5667766 0.7894166]\n",
      "Length:  4  Output:  0.7568365325490075  Actual:  0.7894166040269082\n",
      "[[0.40822284 0.        ]\n",
      " [0.02264227 1.        ]\n",
      " [0.61924336 1.        ]\n",
      " [0.48701935 0.        ]\n",
      " [0.85026736 0.        ]]\n",
      "[0.         0.02264227 0.64188562 0.64188562 0.64188562]\n",
      "Length:  5  Output:  0.6652154391651539  Actual:  0.6418856240437596\n",
      "[[0.08314313 1.        ]\n",
      " [0.57112985 1.        ]\n",
      " [0.04571756 0.        ]\n",
      " [0.5950039  0.        ]\n",
      " [0.20946448 0.        ]\n",
      " [0.42077226 0.        ]]\n",
      "[0.08314313 0.65427299 0.65427299 0.65427299 0.65427299 0.65427299]\n",
      "Length:  6  Output:  0.6679715022802775  Actual:  0.6542729863203106\n",
      "[[0.80670517 0.        ]\n",
      " [0.6778634  0.        ]\n",
      " [0.54210364 1.        ]\n",
      " [0.05440627 1.        ]\n",
      " [0.11391056 0.        ]\n",
      " [0.93841142 0.        ]\n",
      " [0.84833971 0.        ]]\n",
      "[0.         0.         0.54210364 0.59650992 0.59650992 0.59650992\n",
      " 0.59650992]\n",
      "Length:  7  Output:  0.6092685688790245  Actual:  0.5965099153405056\n",
      "[[0.26209591 1.        ]\n",
      " [0.53107406 0.        ]\n",
      " [0.96841892 0.        ]\n",
      " [0.39175751 0.        ]\n",
      " [0.96951005 1.        ]\n",
      " [0.07587097 0.        ]\n",
      " [0.36381928 0.        ]\n",
      " [0.62759619 0.        ]]\n",
      "[0.26209591 0.26209591 0.26209591 0.26209591 1.23160596 1.23160596\n",
      " 1.23160596 1.23160596]\n",
      "Length:  8  Output:  1.2123074344735523  Actual:  1.231605960840981\n",
      "[[0.64235166 0.        ]\n",
      " [0.75697687 1.        ]\n",
      " [0.50433959 0.        ]\n",
      " [0.36792648 0.        ]\n",
      " [0.17280601 0.        ]\n",
      " [0.85528648 1.        ]\n",
      " [0.80996215 0.        ]\n",
      " [0.59042865 0.        ]\n",
      " [0.48574308 0.        ]]\n",
      "[0.         0.75697687 0.75697687 0.75697687 0.75697687 1.61226336\n",
      " 1.61226336 1.61226336 1.61226336]\n",
      "Length:  9  Output:  1.5835937470921184  Actual:  1.6122633578517653\n"
     ]
    }
   ],
   "source": [
    "#make test set and test\n",
    "for length in range(4, 10):\n",
    "    X, y = generate_data(length)\n",
    "    print(X)\n",
    "    print(y)\n",
    "    X = torch.from_numpy(X)\n",
    "    X = X.double()\n",
    "    output = net(X)\n",
    "    print(\"Length: \", length, \" Output: \", output.item(), \" Actual: \", y[-1])"
   ]
  },
  {
   "cell_type": "code",
   "execution_count": 17,
   "metadata": {},
   "outputs": [
    {
     "name": "stdout",
     "output_type": "stream",
     "text": [
      "0.0014286288974786699\n"
     ]
    }
   ],
   "source": [
    "loss = accuracy(net, X_test, y_test)\n",
    "print(loss)"
   ]
  },
  {
   "cell_type": "code",
   "execution_count": 18,
   "metadata": {},
   "outputs": [
    {
     "name": "stdout",
     "output_type": "stream",
     "text": [
      "0.1944996557689587\n"
     ]
    }
   ],
   "source": [
    "loss_1 = one_accruacy(X_test, y_test)\n",
    "print(loss_1)"
   ]
  }
 ],
 "metadata": {
  "kernelspec": {
   "display_name": "adaenv",
   "language": "python",
   "name": "python3"
  },
  "language_info": {
   "codemirror_mode": {
    "name": "ipython",
    "version": 3
   },
   "file_extension": ".py",
   "mimetype": "text/x-python",
   "name": "python",
   "nbconvert_exporter": "python",
   "pygments_lexer": "ipython3",
   "version": "3.9.13"
  },
  "orig_nbformat": 4,
  "vscode": {
   "interpreter": {
    "hash": "3b4875b0c0e5921500ba89c3f7c140a0122aaa6b3aec3bf88d6de6cfd93ac7ec"
   }
  }
 },
 "nbformat": 4,
 "nbformat_minor": 2
}
