{
 "cells": [
  {
   "cell_type": "code",
   "execution_count": 38,
   "metadata": {},
   "outputs": [],
   "source": [
    "import numpy as np\n",
    "import matplotlib.pyplot as plt\n",
    "import torch\n",
    "np.random.seed(0)\n",
    "import math\n",
    "from tqdm import tqdm\n",
    "from sklearn.model_selection import train_test_split"
   ]
  },
  {
   "cell_type": "code",
   "execution_count": 39,
   "metadata": {},
   "outputs": [],
   "source": [
    "def generate_data(length):\n",
    "    num_samples = length\n",
    "    X = np.zeros((num_samples, 2))\n",
    "    y = np.zeros(num_samples,)\n",
    "    count_ones = 0\n",
    "    for i in range(num_samples):\n",
    "        X[i,0] = np.random.uniform(0,1) # sample first distribution from random normal distribution\n",
    "        X[i,1] = (np.random.uniform(0,1))\n",
    "        if(X[i,1] > 0.5 and count_ones < 2):\n",
    "            X[i,1] = 1.0\n",
    "            count_ones += 1\n",
    "            y[i] = y[i-1] + X[i,0]\n",
    "        else:\n",
    "            X[i,1] = 0.0\n",
    "            y[i] = y[i-1] \n",
    "    return X.astype(np.double),y.astype(np.double)"
   ]
  },
  {
   "cell_type": "code",
   "execution_count": 40,
   "metadata": {},
   "outputs": [],
   "source": [
    "# generate dataset type sequence\n",
    "X_data = []\n",
    "y_data = []\n",
    "for i in range(2000):\n",
    "    length = np.random.randint(4, 10)\n",
    "    X, y = generate_data(length)\n",
    "    X_data.append(torch.from_numpy(X).double())\n",
    "    y_data.append(y)"
   ]
  },
  {
   "cell_type": "code",
   "execution_count": 41,
   "metadata": {},
   "outputs": [],
   "source": [
    "# do a train test split of the data\n",
    "X_train, X_test, y_train, y_test = train_test_split(X_data, y_data, test_size=0.3, random_state=42)"
   ]
  },
  {
   "cell_type": "code",
   "execution_count": 42,
   "metadata": {},
   "outputs": [
    {
     "name": "stdout",
     "output_type": "stream",
     "text": [
      "tensor([[0.8326, 1.0000],\n",
      "        [0.8700, 1.0000],\n",
      "        [0.7992, 0.0000],\n",
      "        [0.7805, 0.0000]], dtype=torch.float64)\n",
      "torch.Size([4, 2])\n",
      "torch.Size([4])\n",
      "torch.Size([10])\n"
     ]
    }
   ],
   "source": [
    "print(X_data[1])\n",
    "example = X_data[1]\n",
    "l = torch.nn.Linear(4, 10, dtype=torch.float64)\n",
    "example_h = torch.zeros(2,dtype = torch.float64)\n",
    "print(example.shape)\n",
    "print(torch.cat((example_h,example[0,:]),0).shape)\n",
    "example_op = l(torch.cat((example_h,example[0,:]),0))\n",
    "print(example_op.shape)"
   ]
  },
  {
   "cell_type": "code",
   "execution_count": 43,
   "metadata": {},
   "outputs": [],
   "source": [
    "class LSTM(torch.nn.Module):\n",
    "    def __init__(self, input_size, hidden_size, output_size):\n",
    "        super(LSTM, self).__init__()\n",
    "        self.hidden_size = hidden_size\n",
    "        \n",
    "        self.i2f = torch.nn.Linear(input_size + hidden_size, hidden_size, bias=True)\n",
    "        self.i2i = torch.nn.Linear(input_size + hidden_size, hidden_size,bias=True)\n",
    "        self.i2p = torch.nn.Linear(input_size + hidden_size, hidden_size, bias=True)\n",
    "        self.i2frac = torch.nn.Linear(input_size + hidden_size , hidden_size, bias=True)\n",
    "        self.h2o = torch.nn.Linear(hidden_size, output_size, bias=True)\n",
    "        \n",
    "        self.hidden_state = torch.zeros(self.hidden_size, dtype=torch.float64)\n",
    "        self.cell_state = torch.zeros(self.hidden_size, dtype=torch.float64)\n",
    "        self.f = torch.zeros(self.hidden_size, dtype=torch.float64)\n",
    "        self.i = torch.zeros(self.hidden_size, dtype=torch.float64)\n",
    "        self.p = torch.zeros(self.hidden_size, dtype=torch.float64)\n",
    "        self.frac = torch.zeros(self.hidden_size, dtype=torch.float64)\n",
    "        \n",
    "        self.MAX_TIME_STEPS = 15\n",
    "        self.MIN_TIME_STEPS = 3\n",
    "        self.outputs = []\n",
    "    def forward(self, input):\n",
    "        #input shape = (num_ts,2)\n",
    "        if(input.shape[0] > self.MAX_TIME_STEPS or input.shape[0] < self.MIN_TIME_STEPS):\n",
    "            print(\"Input sequence length is sus\")\n",
    "            return None\n",
    "        self.hidden_state = self.initHidden()\n",
    "        self.cell_state = self.initHidden()\n",
    "        self.outputs = []\n",
    "        for i in range(input.shape[0]):\n",
    "            combined = torch.cat((self.hidden_state, input[i,:]),0)\n",
    "            self.f = torch.sigmoid(self.i2f(combined))\n",
    "            self.i = torch.sigmoid(self.i2i(combined))\n",
    "            self.frac = torch.sigmoid(self.i2frac(combined))\n",
    "            self.p = torch.tanh(self.i2p(combined))\n",
    "            self.cell_state = self.f*self.cell_state + self.i*self.p\n",
    "            self.hidden_state = self.frac*torch.tanh(self.cell_state)\n",
    "            self.outputs.append(self.h2o(self.hidden_state))\n",
    "            final_op = self.h2o(self.hidden_state)\n",
    "        return final_op\n",
    "    def initHidden(self):\n",
    "        return torch.zeros(self.hidden_size, dtype = torch.float64)"
   ]
  },
  {
   "cell_type": "code",
   "execution_count": 44,
   "metadata": {},
   "outputs": [
    {
     "name": "stdout",
     "output_type": "stream",
     "text": [
      "LSTM(\n",
      "  (i2f): Linear(in_features=12, out_features=10, bias=True)\n",
      "  (i2i): Linear(in_features=12, out_features=10, bias=True)\n",
      "  (i2p): Linear(in_features=12, out_features=10, bias=True)\n",
      "  (i2frac): Linear(in_features=12, out_features=10, bias=True)\n",
      "  (h2o): Linear(in_features=10, out_features=1, bias=True)\n",
      ")\n"
     ]
    }
   ],
   "source": [
    "net = LSTM(2, 10, 1)\n",
    "net = net.double()\n",
    "print(net)"
   ]
  },
  {
   "cell_type": "code",
   "execution_count": 45,
   "metadata": {},
   "outputs": [
    {
     "name": "stdout",
     "output_type": "stream",
     "text": [
      "<bound method Module.parameters of LSTM(\n",
      "  (i2f): Linear(in_features=12, out_features=10, bias=True)\n",
      "  (i2i): Linear(in_features=12, out_features=10, bias=True)\n",
      "  (i2p): Linear(in_features=12, out_features=10, bias=True)\n",
      "  (i2frac): Linear(in_features=12, out_features=10, bias=True)\n",
      "  (h2o): Linear(in_features=10, out_features=1, bias=True)\n",
      ")>\n"
     ]
    }
   ],
   "source": [
    "print(net.parameters)"
   ]
  },
  {
   "cell_type": "code",
   "execution_count": 46,
   "metadata": {},
   "outputs": [
    {
     "name": "stdout",
     "output_type": "stream",
     "text": [
      "torch.Size([4, 2])\n"
     ]
    }
   ],
   "source": [
    "ans = net(example)\n",
    "print(example.shape)"
   ]
  },
  {
   "cell_type": "code",
   "execution_count": 47,
   "metadata": {},
   "outputs": [
    {
     "name": "stdout",
     "output_type": "stream",
     "text": [
      "torch.Size([1])\n",
      "0.26570573618580046\n"
     ]
    }
   ],
   "source": [
    "print(ans.shape)\n",
    "print(ans.item())"
   ]
  },
  {
   "cell_type": "code",
   "execution_count": 48,
   "metadata": {},
   "outputs": [
    {
     "name": "stdout",
     "output_type": "stream",
     "text": [
      "600\n",
      "600\n",
      "tensor([[0.2913, 0.0000],\n",
      "        [0.8655, 0.0000],\n",
      "        [0.9144, 0.0000],\n",
      "        [0.5234, 0.0000],\n",
      "        [0.2827, 1.0000],\n",
      "        [0.7948, 0.0000],\n",
      "        [0.4148, 1.0000],\n",
      "        [0.5811, 0.0000]], dtype=torch.float64)\n",
      "[0.         0.         0.         0.         0.28266282 0.28266282\n",
      " 0.69744032 0.69744032]\n"
     ]
    }
   ],
   "source": [
    "# print(net.i2h.weight.grad\n",
    "print(len(X_test))\n",
    "print(len(y_test))\n",
    "print(X_test[0])\n",
    "print(y_test[0])"
   ]
  },
  {
   "cell_type": "code",
   "execution_count": 49,
   "metadata": {},
   "outputs": [],
   "source": [
    "def accuracy(model, X_test, y_test):\n",
    "    model.eval()\n",
    "    correct = 0\n",
    "    total = 0\n",
    "    loss = 0\n",
    "    for i in range(len(X_test)):\n",
    "        X = X_test[i]\n",
    "        y = y_test[i]\n",
    "        y_pred = model(X)\n",
    "        loss += torch.nn.functional.mse_loss(y_pred, torch.tensor([y[-1]], dtype=torch.float64) )\n",
    "    return loss.item()/len(X_test)"
   ]
  },
  {
   "cell_type": "code",
   "execution_count": 50,
   "metadata": {},
   "outputs": [],
   "source": [
    "def one_accruacy(X_test, y_test):\n",
    "    correct = 0\n",
    "    total = 0\n",
    "    loss = 0\n",
    "    for i in range(len(X_test)):\n",
    "        X = X_test[i]\n",
    "        y = y_test[i]\n",
    "        y_pred = torch.tensor([1.0], dtype = torch.float64)\n",
    "        loss += torch.nn.functional.mse_loss(y_pred, torch.tensor([y[-1]], dtype=torch.float64) )\n",
    "    return loss.item()/len(X_test)"
   ]
  },
  {
   "cell_type": "code",
   "execution_count": 51,
   "metadata": {},
   "outputs": [
    {
     "name": "stderr",
     "output_type": "stream",
     "text": [
      "100%|██████████| 2800/2800 [00:35<00:00, 79.72it/s] "
     ]
    },
    {
     "name": "stdout",
     "output_type": "stream",
     "text": [
      "final loss =  0.01713695958867802\n"
     ]
    },
    {
     "name": "stderr",
     "output_type": "stream",
     "text": [
      "\n"
     ]
    }
   ],
   "source": [
    "optimizer = torch.optim.Adam(net.parameters(), lr=0.002)\n",
    "cum_losses = []\n",
    "acc_losses = []\n",
    "one_loss = one_accruacy(X_test, y_test)\n",
    "one_losses = []\n",
    "cum_loss = 0\n",
    "for epoch in tqdm(range(2*len(X_train))):\n",
    "    net.train()\n",
    "    optimizer.zero_grad()\n",
    "    index = epoch%len(X_train)\n",
    "    output = net(X_train[index])\n",
    "    wanted_op = torch.tensor([y_train[index][-1]], dtype=torch.float64)\n",
    "    loss = torch.nn.functional.mse_loss(output, wanted_op)\n",
    "    loss.backward()\n",
    "    cum_loss += loss.item()\n",
    "    optimizer.step()\n",
    "    if(epoch%100 == 0):\n",
    "        cum_losses.append(cum_loss/100)\n",
    "        cum_loss = 0\n",
    "        acc_losses.append(accuracy(net, X_test, y_test))\n",
    "        one_losses.append(one_loss)\n",
    "print(\"final loss = \", cum_losses[-1])"
   ]
  },
  {
   "cell_type": "code",
   "execution_count": 52,
   "metadata": {},
   "outputs": [
    {
     "data": {
      "text/plain": [
       "<matplotlib.legend.Legend at 0x7f30a2dab4c0>"
      ]
     },
     "execution_count": 52,
     "metadata": {},
     "output_type": "execute_result"
    },
    {
     "data": {
      "image/png": "[encoded data removed]",
      "text/plain": [
       "<Figure size 432x288 with 1 Axes>"
      ]
     },
     "metadata": {
      "needs_background": "light"
     },
     "output_type": "display_data"
    }
   ],
   "source": [
    "plt.plot(cum_losses, label='cumulative train loss', color='red', marker='o')\n",
    "plt.plot(acc_losses, label='validation-loss', color='blue', marker='o')\n",
    "plt.plot(one_losses, label='one-predictor-loss', color='green', marker='o')\n",
    "plt.legend()"
   ]
  },
  {
   "cell_type": "code",
   "execution_count": 53,
   "metadata": {},
   "outputs": [
    {
     "name": "stdout",
     "output_type": "stream",
     "text": [
      "[[0.50373761 0.        ]\n",
      " [0.51175497 1.        ]\n",
      " [0.71952303 0.        ]\n",
      " [0.90093691 1.        ]]\n",
      "[0.         0.51175497 0.51175497 1.41269188]\n",
      "Length:  4  Output:  1.1758454267545382  Actual:  1.4126918799097097\n",
      "[[0.00808394 0.        ]\n",
      " [0.71390361 0.        ]\n",
      " [0.14481188 1.        ]\n",
      " [0.59389082 1.        ]\n",
      " [0.13230423 0.        ]]\n",
      "[0.         0.         0.14481188 0.73870269 0.73870269]\n",
      "Length:  5  Output:  0.7730024225207748  Actual:  0.7387026940955458\n",
      "[[0.50353491 0.        ]\n",
      " [0.61889089 0.        ]\n",
      " [0.23242265 1.        ]\n",
      " [0.4063725  1.        ]\n",
      " [0.58411212 0.        ]\n",
      " [0.7813493  0.        ]]\n",
      "[0.         0.         0.23242265 0.63879515 0.63879515 0.63879515]\n",
      "Length:  6  Output:  0.710654338489662  Actual:  0.6387951468852615\n",
      "[[0.72329347 1.        ]\n",
      " [0.05758592 0.        ]\n",
      " [0.89015485 1.        ]\n",
      " [0.98846912 0.        ]\n",
      " [0.082057   0.        ]\n",
      " [0.64549622 0.        ]\n",
      " [0.64281661 0.        ]]\n",
      "[0.72329347 0.72329347 1.61344832 1.61344832 1.61344832 1.61344832\n",
      " 1.61344832]\n",
      "Length:  7  Output:  1.5805502248652208  Actual:  1.6134483170904472\n",
      "[[0.53814131 1.        ]\n",
      " [0.71182824 1.        ]\n",
      " [0.17208208 0.        ]\n",
      " [0.63821296 0.        ]\n",
      " [0.41011705 0.        ]\n",
      " [0.48222939 0.        ]\n",
      " [0.54638506 0.        ]\n",
      " [0.88583322 0.        ]]\n",
      "[0.53814131 1.24996955 1.24996955 1.24996955 1.24996955 1.24996955\n",
      " 1.24996955 1.24996955]\n",
      "Length:  8  Output:  1.2990750176565047  Actual:  1.249969552122294\n",
      "[[0.13073545 0.        ]\n",
      " [0.14512952 0.        ]\n",
      " [0.77225219 1.        ]\n",
      " [0.18742578 0.        ]\n",
      " [0.12233294 0.        ]\n",
      " [0.23482346 1.        ]\n",
      " [0.64010319 0.        ]\n",
      " [0.44417453 0.        ]\n",
      " [0.4005376  0.        ]]\n",
      "[0.         0.         0.77225219 0.77225219 0.77225219 1.00707564\n",
      " 1.00707564 1.00707564 1.00707564]\n",
      "Length:  9  Output:  0.8226227553337361  Actual:  1.0070756436553205\n"
     ]
    }
   ],
   "source": [
    "#make test set and test\n",
    "for length in range(4, 10):\n",
    "    X, y = generate_data(length)\n",
    "    print(X)\n",
    "    print(y)\n",
    "    X = torch.from_numpy(X)\n",
    "    X = X.double()\n",
    "    output = net(X)\n",
    "    print(\"Length: \", length, \" Output: \", output.item(), \" Actual: \", y[-1])"
   ]
  },
  {
   "cell_type": "code",
   "execution_count": 54,
   "metadata": {},
   "outputs": [
    {
     "name": "stdout",
     "output_type": "stream",
     "text": [
      "0.012339394713768475\n"
     ]
    }
   ],
   "source": [
    "loss = accuracy(net, X_test, y_test)\n",
    "print(loss)"
   ]
  },
  {
   "cell_type": "code",
   "execution_count": 55,
   "metadata": {},
   "outputs": [
    {
     "name": "stdout",
     "output_type": "stream",
     "text": [
      "0.20637739576778288\n"
     ]
    }
   ],
   "source": [
    "loss_1 = one_accruacy(X_test, y_test)\n",
    "print(loss_1)"
   ]
  }
 ],
 "metadata": {
  "kernelspec": {
   "display_name": "adaenv",
   "language": "python",
   "name": "python3"
  },
  "language_info": {
   "codemirror_mode": {
    "name": "ipython",
    "version": 3
   },
   "file_extension": ".py",
   "mimetype": "text/x-python",
   "name": "python",
   "nbconvert_exporter": "python",
   "pygments_lexer": "ipython3",
   "version": "3.9.13"
  },
  "orig_nbformat": 4,
  "vscode": {
   "interpreter": {
    "hash": "3b4875b0c0e5921500ba89c3f7c140a0122aaa6b3aec3bf88d6de6cfd93ac7ec"
   }
  }
 },
 "nbformat": 4,
 "nbformat_minor": 2
}
