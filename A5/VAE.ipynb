{
 "cells": [
  {
   "cell_type": "code",
   "execution_count": 1,
   "id": "cd838a5b",
   "metadata": {},
   "outputs": [],
   "source": [
    "import torch\n",
    "import numpy as np\n",
    "from torchvision.datasets import MNIST\n",
    "import torchvision.transforms as tf\n",
    "import torch.nn as nn\n",
    "import matplotlib.pyplot as plt\n",
    "from tqdm import tqdm\n",
    "import imageio\n",
    "from torch.utils.data import DataLoader as DL\n",
    "import os"
   ]
  },
  {
   "cell_type": "code",
   "execution_count": 2,
   "id": "c9150198",
   "metadata": {},
   "outputs": [
    {
     "data": {
      "text/plain": [
       "<torch._C.Generator at 0x7f488028e830>"
      ]
     },
     "execution_count": 2,
     "metadata": {},
     "output_type": "execute_result"
    }
   ],
   "source": [
    "torch.cuda.is_available()\n",
    "torch.manual_seed(1)"
   ]
  },
  {
   "cell_type": "code",
   "execution_count": 3,
   "id": "eb31d537",
   "metadata": {},
   "outputs": [],
   "source": [
    "device = \"cuda\" if torch.cuda.is_available() else \"cpu\""
   ]
  },
  {
   "cell_type": "code",
   "execution_count": 4,
   "id": "4feb6547",
   "metadata": {},
   "outputs": [
    {
     "data": {
      "text/plain": [
       "'cuda'"
      ]
     },
     "execution_count": 4,
     "metadata": {},
     "output_type": "execute_result"
    }
   ],
   "source": [
    "device"
   ]
  },
  {
   "cell_type": "markdown",
   "id": "2e839cb3",
   "metadata": {},
   "source": [
    "MNIST Dataset\n",
    "\n",
    "---\n",
    "\n",
    "Import from `datasets`"
   ]
  },
  {
   "cell_type": "code",
   "execution_count": 5,
   "id": "7c0167b9",
   "metadata": {},
   "outputs": [],
   "source": [
    "transform = tf.Compose([tf.ToTensor(), tf.Normalize((0.1307), (0.3081,))])"
   ]
  },
  {
   "cell_type": "code",
   "execution_count": 6,
   "id": "46ecc6b2",
   "metadata": {},
   "outputs": [],
   "source": [
    "train_ds = DL(MNIST(root=\"./data\", train=True, download = True, transform= transform) ,batch_size=35)"
   ]
  },
  {
   "cell_type": "code",
   "execution_count": 7,
   "id": "447acb5e",
   "metadata": {},
   "outputs": [],
   "source": [
    "test_ds = DL(MNIST(root=\"./data\", train=False, download = True, transform= transform) ,batch_size = 35)"
   ]
  },
  {
   "cell_type": "code",
   "execution_count": 8,
   "id": "a75603e4",
   "metadata": {},
   "outputs": [],
   "source": [
    "ind = iter(train_ds)"
   ]
  },
  {
   "cell_type": "code",
   "execution_count": 9,
   "id": "86359e9c",
   "metadata": {},
   "outputs": [],
   "source": [
    "train_batches = len(ind)"
   ]
  },
  {
   "cell_type": "code",
   "execution_count": 10,
   "id": "2bec2152",
   "metadata": {},
   "outputs": [],
   "source": [
    "class encoder(torch.nn.Module):\n",
    "    def __init__(self, input_size, latent_size):\n",
    "        super().__init__()\n",
    "        self.bn = latent_size\n",
    "        self.input_size = input_size\n",
    "        self.fc1 = nn.Linear(input_size,latent_size*2)\n",
    "        self.fc2 = nn.Linear(latent_size*2, latent_size)\n",
    "        self.mu_maker  = nn.Linear(latent_size, latent_size)\n",
    "        self.sigma_maker = nn.Linear(latent_size, latent_size)\n",
    "        self.latent = None \n",
    "        self.sigma = None\n",
    "        self.mu = None\n",
    "    def forward(self,x):\n",
    "        m = torch.flatten(x, 1)\n",
    "        self.mu = self.mu_maker(self.fc2(self.fc1(m)))\n",
    "        self.sigma = self.sigma_maker(self.fc2(self.fc1(m)))\n",
    "        self.latent = self.mu + self.sigma * torch.randn_like(self.sigma) # may cause an issue if variable created on the cpu\n",
    "        return(self.latent)     "
   ]
  },
  {
   "cell_type": "code",
   "execution_count": 11,
   "id": "8126fb5e",
   "metadata": {},
   "outputs": [],
   "source": [
    "class decoder(torch.nn.Module):\n",
    "    def __init__(self,latent_size,output_size):\n",
    "        super().__init__()\n",
    "        self.bn = latent_size\n",
    "        self.fc1 = nn.Linear(latent_size, latent_size*2)\n",
    "        self.fc2 = nn.Linear(latent_size*2, output_size)\n",
    "    def forward(self, z):\n",
    "        return (self.fc2(torch.sigmoid(self.fc1(z))))"
   ]
  },
  {
   "cell_type": "code",
   "execution_count": 12,
   "id": "2e356251",
   "metadata": {},
   "outputs": [
    {
     "data": {
      "text/plain": [
       "decoder(\n",
       "  (fc1): Linear(in_features=20, out_features=40, bias=True)\n",
       "  (fc2): Linear(in_features=40, out_features=784, bias=True)\n",
       ")"
      ]
     },
     "execution_count": 12,
     "metadata": {},
     "output_type": "execute_result"
    }
   ],
   "source": [
    "ec = encoder(784,20)\n",
    "dc =  decoder(20, 784)\n",
    "dc"
   ]
  },
  {
   "cell_type": "code",
   "execution_count": 13,
   "id": "abbd9630",
   "metadata": {},
   "outputs": [],
   "source": [
    "class VariationalAutoencoder(torch.nn.Module):\n",
    "    def __init__(self, input_size, latent_size):\n",
    "        super().__init__()\n",
    "        self.bn = latent_size\n",
    "        self.input_size = input_size\n",
    "        self.encoder = encoder(self.input_size, self.bn)\n",
    "        self.decoder = decoder(self.bn, self.input_size)\n",
    "    def forward(self,x):\n",
    "        return self.decoder(torch.sigmoid(self.encoder(x)))\n",
    "    "
   ]
  },
  {
   "cell_type": "code",
   "execution_count": 14,
   "id": "fc18cde3",
   "metadata": {},
   "outputs": [],
   "source": [
    "loss_fn = torch.nn.MSELoss()"
   ]
  },
  {
   "cell_type": "code",
   "execution_count": 15,
   "id": "52d3d4e2",
   "metadata": {},
   "outputs": [],
   "source": [
    "y = next(ind)"
   ]
  },
  {
   "cell_type": "code",
   "execution_count": 16,
   "id": "91ab04b1",
   "metadata": {},
   "outputs": [
    {
     "data": {
      "text/plain": [
       "torch.Size([35, 1, 28, 28])"
      ]
     },
     "execution_count": 16,
     "metadata": {},
     "output_type": "execute_result"
    }
   ],
   "source": [
    "y[0].shape"
   ]
  },
  {
   "cell_type": "code",
   "execution_count": 17,
   "id": "dd86649b",
   "metadata": {},
   "outputs": [
    {
     "data": {
      "text/plain": [
       "tensor([5, 0, 4, 1, 9, 2, 1, 3, 1, 4, 3, 5, 3, 6, 1, 7, 2, 8, 6, 9, 4, 0, 9, 1,\n",
       "        1, 2, 4, 3, 2, 7, 3, 8, 6, 9, 0])"
      ]
     },
     "execution_count": 17,
     "metadata": {},
     "output_type": "execute_result"
    }
   ],
   "source": [
    "y[1]"
   ]
  },
  {
   "cell_type": "code",
   "execution_count": 18,
   "id": "07af8037",
   "metadata": {},
   "outputs": [
    {
     "name": "stdout",
     "output_type": "stream",
     "text": [
      "torch.Size([35, 20])\n"
     ]
    }
   ],
   "source": [
    "img = torch.randn(35, 1, 28, 28)\n",
    "op = ec(img)\n",
    "print(op.shape)"
   ]
  },
  {
   "cell_type": "code",
   "execution_count": 19,
   "id": "548d44c7",
   "metadata": {},
   "outputs": [],
   "source": [
    "vae = VariationalAutoencoder(784,32)"
   ]
  },
  {
   "cell_type": "code",
   "execution_count": 20,
   "id": "184889ad",
   "metadata": {},
   "outputs": [],
   "source": [
    "train_losses = []\n",
    "test_losses = []\n",
    "opt =  torch.optim.Adam(vae.parameters(), lr  = 0.001, weight_decay=1e-5)"
   ]
  },
  {
   "cell_type": "code",
   "execution_count": 21,
   "id": "5a21a5f7",
   "metadata": {},
   "outputs": [],
   "source": [
    "# vae.to(device)"
   ]
  },
  {
   "cell_type": "code",
   "execution_count": 22,
   "id": "2e3de03d",
   "metadata": {},
   "outputs": [
    {
     "data": {
      "text/plain": [
       "0"
      ]
     },
     "execution_count": 22,
     "metadata": {},
     "output_type": "execute_result"
    }
   ],
   "source": [
    "torch.cuda.memory_allocated()"
   ]
  },
  {
   "cell_type": "code",
   "execution_count": 23,
   "id": "1b3f531e",
   "metadata": {},
   "outputs": [],
   "source": [
    "def calc_loss(dl,model):\n",
    "    model.eval()\n",
    "    loss = 0\n",
    "    count = 0\n",
    "    for index,(image, target) in enumerate(dl):\n",
    "        image = image.to(device)\n",
    "        flat_img = torch.flatten(image, 1)\n",
    "        loss = loss + loss_fn(model(image), flat_img).item()\n",
    "        count = count + 1\n",
    "    return loss/count"
   ]
  },
  {
   "cell_type": "code",
   "execution_count": 24,
   "id": "6cb274d9",
   "metadata": {},
   "outputs": [],
   "source": [
    "# calc_loss(test_ds, vae)\n",
    "# print(calc_loss(train_ds, vae))"
   ]
  },
  {
   "cell_type": "code",
   "execution_count": 25,
   "id": "bd9b7e59",
   "metadata": {},
   "outputs": [],
   "source": [
    "len(train_ds.dataset)\n",
    "NUM_EPOCH = 4\n",
    "LAMBDA = 0.5"
   ]
  },
  {
   "cell_type": "code",
   "execution_count": 26,
   "id": "6efea754",
   "metadata": {},
   "outputs": [
    {
     "name": "stdout",
     "output_type": "stream",
     "text": [
      "tensor([[1.6610e+00, 0.0000e+00, 0.0000e+00, 0.0000e+00, 0.0000e+00, 0.0000e+00,\n",
      "         0.0000e+00, 0.0000e+00, 0.0000e+00, 0.0000e+00],\n",
      "        [0.0000e+00, 3.1495e-01, 0.0000e+00, 0.0000e+00, 0.0000e+00, 0.0000e+00,\n",
      "         0.0000e+00, 0.0000e+00, 0.0000e+00, 0.0000e+00],\n",
      "        [0.0000e+00, 0.0000e+00, 6.4924e-01, 0.0000e+00, 0.0000e+00, 0.0000e+00,\n",
      "         0.0000e+00, 0.0000e+00, 0.0000e+00, 0.0000e+00],\n",
      "        [0.0000e+00, 0.0000e+00, 0.0000e+00, 2.4287e+00, 0.0000e+00, 0.0000e+00,\n",
      "         0.0000e+00, 0.0000e+00, 0.0000e+00, 0.0000e+00],\n",
      "        [0.0000e+00, 0.0000e+00, 0.0000e+00, 0.0000e+00, 2.1407e-01, 0.0000e+00,\n",
      "         0.0000e+00, 0.0000e+00, 0.0000e+00, 0.0000e+00],\n",
      "        [0.0000e+00, 0.0000e+00, 0.0000e+00, 0.0000e+00, 0.0000e+00, 2.0120e-04,\n",
      "         0.0000e+00, 0.0000e+00, 0.0000e+00, 0.0000e+00],\n",
      "        [0.0000e+00, 0.0000e+00, 0.0000e+00, 0.0000e+00, 0.0000e+00, 0.0000e+00,\n",
      "         1.2999e-02, 0.0000e+00, 0.0000e+00, 0.0000e+00],\n",
      "        [0.0000e+00, 0.0000e+00, 0.0000e+00, 0.0000e+00, 0.0000e+00, 0.0000e+00,\n",
      "         0.0000e+00, 2.8742e+00, 0.0000e+00, 0.0000e+00],\n",
      "        [0.0000e+00, 0.0000e+00, 0.0000e+00, 0.0000e+00, 0.0000e+00, 0.0000e+00,\n",
      "         0.0000e+00, 0.0000e+00, 5.6220e+00, 0.0000e+00],\n",
      "        [0.0000e+00, 0.0000e+00, 0.0000e+00, 0.0000e+00, 0.0000e+00, 0.0000e+00,\n",
      "         0.0000e+00, 0.0000e+00, 0.0000e+00, 3.6192e+00]])\n"
     ]
    }
   ],
   "source": [
    "sig_ = torch.randn(10)\n",
    "print(torch.diag(sig_**2))"
   ]
  },
  {
   "cell_type": "code",
   "execution_count": 27,
   "id": "d65dea2f",
   "metadata": {},
   "outputs": [],
   "source": [
    "def StandardGaussianKL(mu, sigma):\n",
    "    # mu is mean and sigma is the deviation\n",
    "    # aggregate over every dimension in mu and sigma to calculate the loss\n",
    "    loss = torch.tensor(0.0)\n",
    "    for i in range(mu.shape[0]):\n",
    "        mu_ = mu[i,:]\n",
    "        # print(mu_.shape)\n",
    "        sigma_ = sigma[i,:]\n",
    "        cov_ = torch.diag(sigma_**2)\n",
    "        inv_cov = torch.diag(1/(sigma_**2))\n",
    "        # print(torch.det(cov_).shape)\n",
    "        assert torch.det(cov_) != 0\n",
    "        # calculate KL loss between the standard gaussian and the distribution\n",
    "        loss += 0.5 * torch.log(1/torch.det(cov_)) + mu_.T@inv_cov@mu_ - 0.5*mu.shape[1]\n",
    "    return loss"
   ]
  },
  {
   "cell_type": "code",
   "execution_count": 28,
   "id": "76dfa03b",
   "metadata": {},
   "outputs": [
    {
     "name": "stdout",
     "output_type": "stream",
     "text": [
      "torch.Size([35, 784])\n",
      "tensor([[-0.2611,  0.0712, -0.1079,  ..., -0.0258, -0.0618,  0.0071],\n",
      "        [-0.5228, -0.2801, -0.0752,  ...,  0.0577,  0.0893,  0.1862],\n",
      "        [ 0.2836,  0.1074, -0.3176,  ...,  0.4451,  0.0042,  0.0392],\n",
      "        ...,\n",
      "        [ 0.0637, -0.0362,  0.0196,  ...,  0.0735,  0.1097,  0.0100],\n",
      "        [-0.2686, -0.0369, -0.3082,  ...,  0.1152,  0.0639,  0.2021],\n",
      "        [-0.3669, -0.0022, -0.0263,  ...,  0.3586,  0.0044, -0.1748]],\n",
      "       grad_fn=<AddmmBackward0>)\n",
      "tensor([[-0.2643, -0.1096, -0.0050,  ..., -0.0457, -0.1275, -0.2168],\n",
      "        [ 0.2030, -0.3247,  0.0433,  ...,  0.1040, -0.2179, -0.0642],\n",
      "        [-0.6713, -0.0071,  0.4734,  ..., -0.0396, -0.2568, -0.1595],\n",
      "        ...,\n",
      "        [-0.2381, -0.1075,  0.0621,  ..., -0.4163, -0.3765,  0.0238],\n",
      "        [-0.4877, -0.2271,  0.2658,  ..., -0.0514, -0.0186, -0.3186],\n",
      "        [-0.4707, -0.0223,  0.3918,  ...,  0.0674, -0.1623, -0.5102]],\n",
      "       grad_fn=<AddmmBackward0>)\n"
     ]
    }
   ],
   "source": [
    "x = torch.randn(35, 784)\n",
    "op = vae(x)\n",
    "print(op.shape)\n",
    "print(vae.encoder.mu)\n",
    "print(vae.encoder.sigma)\n",
    "# StandardGaussianKL(vae.encoder.mu, vae.encoder.sigma)"
   ]
  },
  {
   "cell_type": "code",
   "execution_count": 29,
   "id": "3dfc8b4a",
   "metadata": {},
   "outputs": [
    {
     "name": "stderr",
     "output_type": "stream",
     "text": [
      "100%|██████████| 1715/1715 [00:21<00:00, 80.93it/s] \n",
      "100%|██████████| 1715/1715 [00:17<00:00, 95.37it/s] \n",
      "100%|██████████| 1715/1715 [00:18<00:00, 92.27it/s] \n",
      "100%|██████████| 1715/1715 [00:18<00:00, 93.58it/s] \n"
     ]
    }
   ],
   "source": [
    "for epoch in (range(NUM_EPOCH)):\n",
    "    for index,(image, target) in (enumerate(tqdm(train_ds, leave=True))):\n",
    "        vae.train()\n",
    "        opt.zero_grad()\n",
    "        vae = vae.to(device)\n",
    "        image = image.to(device)\n",
    "        flat_img = torch.flatten(image, 1)\n",
    "        op = vae(image)\n",
    "        reconstruct_loss = loss_fn(op, flat_img)\n",
    "        logvar = torch.log(vae.encoder.sigma**2)\n",
    "        KL_loss = torch.mean(-0.5 * torch.sum(1 + logvar - vae.encoder.mu.pow(2) - logvar.exp(),dim=1),dim=0)\n",
    "        loss = reconstruct_loss + KL_loss\n",
    "        loss.backward()\n",
    "        opt.step()\n",
    "        if(index %600 == 0):\n",
    "            train_losses.append(loss.item())\n",
    "            test_loss = calc_loss(test_ds, vae)\n",
    "            test_losses.append(test_loss)"
   ]
  },
  {
   "cell_type": "code",
   "execution_count": 30,
   "id": "0ad475f2",
   "metadata": {},
   "outputs": [
    {
     "name": "stdout",
     "output_type": "stream",
     "text": [
      "0.7167154048289452\n",
      "1.08072575509965\n"
     ]
    }
   ],
   "source": [
    "print(test_losses[-1])\n",
    "print(test_losses[0])"
   ]
  },
  {
   "cell_type": "code",
   "execution_count": 31,
   "id": "acc2d6cd",
   "metadata": {},
   "outputs": [
    {
     "data": {
      "text/plain": [
       "<matplotlib.legend.Legend at 0x7f47d0159370>"
      ]
     },
     "execution_count": 31,
     "metadata": {},
     "output_type": "execute_result"
    },
    {
     "data": {
      "image/png": "[encoded data removed]",
      "text/plain": [
       "<Figure size 432x288 with 1 Axes>"
      ]
     },
     "metadata": {
      "needs_background": "light"
     },
     "output_type": "display_data"
    }
   ],
   "source": [
    "plt.plot(train_losses, label='train_losses')\n",
    "plt.plot(test_losses, label= 'test_losses')\n",
    "plt.xlabel('Index modulo 300')\n",
    "plt.legend()"
   ]
  },
  {
   "cell_type": "code",
   "execution_count": 32,
   "id": "4220860f",
   "metadata": {},
   "outputs": [
    {
     "name": "stdout",
     "output_type": "stream",
     "text": [
      "0.7167154048289452\n"
     ]
    },
    {
     "data": {
      "text/plain": [
       "VariationalAutoencoder(\n",
       "  (encoder): encoder(\n",
       "    (fc1): Linear(in_features=784, out_features=64, bias=True)\n",
       "    (fc2): Linear(in_features=64, out_features=32, bias=True)\n",
       "    (mu_maker): Linear(in_features=32, out_features=32, bias=True)\n",
       "    (sigma_maker): Linear(in_features=32, out_features=32, bias=True)\n",
       "  )\n",
       "  (decoder): decoder(\n",
       "    (fc1): Linear(in_features=32, out_features=64, bias=True)\n",
       "    (fc2): Linear(in_features=64, out_features=784, bias=True)\n",
       "  )\n",
       ")"
      ]
     },
     "execution_count": 32,
     "metadata": {},
     "output_type": "execute_result"
    }
   ],
   "source": [
    "print(test_losses[-1])\n",
    "vae = vae.to(\"cpu\")\n",
    "vae.eval()"
   ]
  },
  {
   "cell_type": "code",
   "execution_count": 33,
   "id": "f590a01a",
   "metadata": {},
   "outputs": [],
   "source": [
    "batch  = next(ind)\n",
    "img = batch[0]"
   ]
  },
  {
   "cell_type": "code",
   "execution_count": 34,
   "id": "16a315f2",
   "metadata": {},
   "outputs": [
    {
     "data": {
      "text/plain": [
       "<matplotlib.image.AxesImage at 0x7f47bb3645e0>"
      ]
     },
     "execution_count": 34,
     "metadata": {},
     "output_type": "execute_result"
    },
    {
     "data": {
      "image/png": "[encoded data removed]",
      "text/plain": [
       "<Figure size 432x288 with 1 Axes>"
      ]
     },
     "metadata": {
      "needs_background": "light"
     },
     "output_type": "display_data"
    }
   ],
   "source": [
    "plt.imshow(img[0].permute(1, 2, 0))"
   ]
  },
  {
   "cell_type": "code",
   "execution_count": 35,
   "id": "108ee1d7",
   "metadata": {},
   "outputs": [
    {
     "data": {
      "image/png": "[encoded data removed]",
      "text/plain": [
       "<Figure size 432x288 with 1 Axes>"
      ]
     },
     "metadata": {
      "needs_background": "light"
     },
     "output_type": "display_data"
    }
   ],
   "source": [
    "plt.imshow(vae(img[0]).reshape(-1,28,28).permute(1,2,0).detach().numpy())\n",
    "latent = vae.encoder(img[0])"
   ]
  },
  {
   "cell_type": "markdown",
   "id": "d482fb63",
   "metadata": {},
   "source": [
    "#### Using the model to visualize the Manifold structure in the latent space"
   ]
  },
  {
   "cell_type": "code",
   "execution_count": 36,
   "id": "df713865",
   "metadata": {},
   "outputs": [
    {
     "data": {
      "image/png": "[encoded data removed]",
      "text/plain": [
       "<Figure size 432x288 with 1 Axes>"
      ]
     },
     "metadata": {
      "needs_background": "light"
     },
     "output_type": "display_data"
    }
   ],
   "source": [
    "batch_next = next(ind)\n",
    "image_next = batch_next[0]\n",
    "plt.imshow(image_next[0].permute(1, 2, 0))\n",
    "latent_next = vae.encoder(image_next[0])"
   ]
  },
  {
   "cell_type": "code",
   "execution_count": 42,
   "id": "57007efc",
   "metadata": {},
   "outputs": [
    {
     "data": {
      "text/plain": [
       "<matplotlib.image.AxesImage at 0x7f47f57825b0>"
      ]
     },
     "execution_count": 42,
     "metadata": {},
     "output_type": "execute_result"
    },
    {
     "data": {
      "image/png": "[encoded data removed]",
      "text/plain": [
       "<Figure size 432x288 with 1 Axes>"
      ]
     },
     "metadata": {
      "needs_background": "light"
     },
     "output_type": "display_data"
    }
   ],
   "source": [
    "plt.imshow(vae(image_next[0]).reshape(-1,28,28).permute(1,2,0).detach().numpy())"
   ]
  },
  {
   "cell_type": "code",
   "execution_count": 37,
   "id": "09c453ff",
   "metadata": {},
   "outputs": [],
   "source": [
    "# obtain the latent representations of both of the images\n",
    "detacher = lambda x: torch.reshape(x, (-1, 28, 28)).detach().numpy()\n",
    "imager = lambda x: torch.reshape(x, (-1, 28, 28)).permute(1, 2, 0).detach().numpy()\n",
    "det_trans = tf.Lambda(detacher) \n",
    "image_trans = tf.Lambda(imager)"
   ]
  },
  {
   "cell_type": "code",
   "execution_count": 38,
   "id": "431d4a03",
   "metadata": {},
   "outputs": [
    {
     "name": "stdout",
     "output_type": "stream",
     "text": [
      "mkdir: cannot create directory ‘images’: File exists\n"
     ]
    }
   ],
   "source": [
    "!mkdir images"
   ]
  },
  {
   "cell_type": "code",
   "execution_count": 39,
   "id": "4c510a14",
   "metadata": {},
   "outputs": [
    {
     "name": "stderr",
     "output_type": "stream",
     "text": [
      "100%|██████████| 100/100 [00:31<00:00,  3.13it/s]\n"
     ]
    },
    {
     "data": {
      "image/png": "[encoded data removed]",
      "text/plain": [
       "<Figure size 432x288 with 1 Axes>"
      ]
     },
     "metadata": {
      "needs_background": "light"
     },
     "output_type": "display_data"
    }
   ],
   "source": [
    "filenames = []\n",
    "count = 0\n",
    "for alpha in tqdm(np.linspace(0,1, 100)):\n",
    "    count = count + 1\n",
    "    latent_mid = alpha*latent + (1 - alpha)*latent_next\n",
    "    plt.title('alpha = ' + str(alpha))\n",
    "    plt.imshow(image_trans(vae.decoder(latent_mid)))\n",
    "    plt.savefig('images/alpha_' + str(count) + '.png')\n",
    "    filenames.append('images/alpha_' + str(count) + '.png')"
   ]
  },
  {
   "cell_type": "code",
   "execution_count": 40,
   "id": "4279b638",
   "metadata": {},
   "outputs": [],
   "source": [
    "images = []\n",
    "for file in filenames:\n",
    "    images.append(imageio.v2.imread(file))\n",
    "    \n",
    "imageio.mimsave('ae.gif', images)"
   ]
  },
  {
   "cell_type": "markdown",
   "id": "f862e474",
   "metadata": {},
   "source": [
    "![](ae.gif)"
   ]
  },
  {
   "cell_type": "code",
   "execution_count": 41,
   "id": "44c3c5b0",
   "metadata": {},
   "outputs": [],
   "source": [
    "for file in filenames:\n",
    "    os.remove(file)"
   ]
  },
  {
   "cell_type": "code",
   "execution_count": null,
   "id": "0683d953",
   "metadata": {},
   "outputs": [],
   "source": []
  }
 ],
 "metadata": {
  "kernelspec": {
   "display_name": "Python 3 (ipykernel)",
   "language": "python",
   "name": "python3"
  },
  "language_info": {
   "codemirror_mode": {
    "name": "ipython",
    "version": 3
   },
   "file_extension": ".py",
   "mimetype": "text/x-python",
   "name": "python",
   "nbconvert_exporter": "python",
   "pygments_lexer": "ipython3",
   "version": "3.9.13"
  }
 },
 "nbformat": 4,
 "nbformat_minor": 5
}
